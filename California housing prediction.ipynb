{
 "cells": [
  {
   "cell_type": "code",
   "execution_count": 393,
   "metadata": {
    "collapsed": true
   },
   "outputs": [],
   "source": [
    "import pandas as pd\n",
    "import numpy as np\n",
    "import matplotlib.pyplot as plt\n",
    "import tensorflow as tf\n",
    "from sklearn.model_selection import train_test_split\n",
    "from sklearn.preprocessing import MinMaxScaler\n",
    "\n",
    "%matplotlib inline"
   ]
  },
  {
   "cell_type": "code",
   "execution_count": 394,
   "metadata": {
    "collapsed": true
   },
   "outputs": [],
   "source": [
    "import seaborn as sns\n",
    "\n",
    "sns.set_style('whitegrid')"
   ]
  },
  {
   "cell_type": "code",
   "execution_count": 395,
   "metadata": {
    "collapsed": true
   },
   "outputs": [],
   "source": [
    "housing = pd.read_csv('cal_housing_clean.csv')"
   ]
  },
  {
   "cell_type": "code",
   "execution_count": 396,
   "metadata": {
    "collapsed": false
   },
   "outputs": [
    {
     "data": {
      "text/html": [
       "<div>\n",
       "<style>\n",
       "    .dataframe thead tr:only-child th {\n",
       "        text-align: right;\n",
       "    }\n",
       "\n",
       "    .dataframe thead th {\n",
       "        text-align: left;\n",
       "    }\n",
       "\n",
       "    .dataframe tbody tr th {\n",
       "        vertical-align: top;\n",
       "    }\n",
       "</style>\n",
       "<table border=\"1\" class=\"dataframe\">\n",
       "  <thead>\n",
       "    <tr style=\"text-align: right;\">\n",
       "      <th></th>\n",
       "      <th>housingMedianAge</th>\n",
       "      <th>totalRooms</th>\n",
       "      <th>totalBedrooms</th>\n",
       "      <th>population</th>\n",
       "      <th>households</th>\n",
       "      <th>medianIncome</th>\n",
       "      <th>medianHouseValue</th>\n",
       "    </tr>\n",
       "  </thead>\n",
       "  <tbody>\n",
       "    <tr>\n",
       "      <th>0</th>\n",
       "      <td>41.0</td>\n",
       "      <td>880.0</td>\n",
       "      <td>129.0</td>\n",
       "      <td>322.0</td>\n",
       "      <td>126.0</td>\n",
       "      <td>8.3252</td>\n",
       "      <td>452600.0</td>\n",
       "    </tr>\n",
       "    <tr>\n",
       "      <th>1</th>\n",
       "      <td>21.0</td>\n",
       "      <td>7099.0</td>\n",
       "      <td>1106.0</td>\n",
       "      <td>2401.0</td>\n",
       "      <td>1138.0</td>\n",
       "      <td>8.3014</td>\n",
       "      <td>358500.0</td>\n",
       "    </tr>\n",
       "    <tr>\n",
       "      <th>2</th>\n",
       "      <td>52.0</td>\n",
       "      <td>1467.0</td>\n",
       "      <td>190.0</td>\n",
       "      <td>496.0</td>\n",
       "      <td>177.0</td>\n",
       "      <td>7.2574</td>\n",
       "      <td>352100.0</td>\n",
       "    </tr>\n",
       "    <tr>\n",
       "      <th>3</th>\n",
       "      <td>52.0</td>\n",
       "      <td>1274.0</td>\n",
       "      <td>235.0</td>\n",
       "      <td>558.0</td>\n",
       "      <td>219.0</td>\n",
       "      <td>5.6431</td>\n",
       "      <td>341300.0</td>\n",
       "    </tr>\n",
       "    <tr>\n",
       "      <th>4</th>\n",
       "      <td>52.0</td>\n",
       "      <td>1627.0</td>\n",
       "      <td>280.0</td>\n",
       "      <td>565.0</td>\n",
       "      <td>259.0</td>\n",
       "      <td>3.8462</td>\n",
       "      <td>342200.0</td>\n",
       "    </tr>\n",
       "  </tbody>\n",
       "</table>\n",
       "</div>"
      ],
      "text/plain": [
       "   housingMedianAge  totalRooms  totalBedrooms  population  households  \\\n",
       "0              41.0       880.0          129.0       322.0       126.0   \n",
       "1              21.0      7099.0         1106.0      2401.0      1138.0   \n",
       "2              52.0      1467.0          190.0       496.0       177.0   \n",
       "3              52.0      1274.0          235.0       558.0       219.0   \n",
       "4              52.0      1627.0          280.0       565.0       259.0   \n",
       "\n",
       "   medianIncome  medianHouseValue  \n",
       "0        8.3252          452600.0  \n",
       "1        8.3014          358500.0  \n",
       "2        7.2574          352100.0  \n",
       "3        5.6431          341300.0  \n",
       "4        3.8462          342200.0  "
      ]
     },
     "execution_count": 396,
     "metadata": {},
     "output_type": "execute_result"
    }
   ],
   "source": [
    "housing.head()"
   ]
  },
  {
   "cell_type": "code",
   "execution_count": 397,
   "metadata": {
    "collapsed": false,
    "scrolled": true
   },
   "outputs": [
    {
     "data": {
      "text/html": [
       "<div>\n",
       "<style>\n",
       "    .dataframe thead tr:only-child th {\n",
       "        text-align: right;\n",
       "    }\n",
       "\n",
       "    .dataframe thead th {\n",
       "        text-align: left;\n",
       "    }\n",
       "\n",
       "    .dataframe tbody tr th {\n",
       "        vertical-align: top;\n",
       "    }\n",
       "</style>\n",
       "<table border=\"1\" class=\"dataframe\">\n",
       "  <thead>\n",
       "    <tr style=\"text-align: right;\">\n",
       "      <th></th>\n",
       "      <th>housingMedianAge</th>\n",
       "      <th>totalRooms</th>\n",
       "      <th>totalBedrooms</th>\n",
       "      <th>population</th>\n",
       "      <th>households</th>\n",
       "      <th>medianIncome</th>\n",
       "      <th>medianHouseValue</th>\n",
       "    </tr>\n",
       "  </thead>\n",
       "  <tbody>\n",
       "    <tr>\n",
       "      <th>count</th>\n",
       "      <td>20640.000000</td>\n",
       "      <td>20640.000000</td>\n",
       "      <td>20640.000000</td>\n",
       "      <td>20640.000000</td>\n",
       "      <td>20640.000000</td>\n",
       "      <td>20640.000000</td>\n",
       "      <td>20640.000000</td>\n",
       "    </tr>\n",
       "    <tr>\n",
       "      <th>mean</th>\n",
       "      <td>28.639486</td>\n",
       "      <td>2635.763081</td>\n",
       "      <td>537.898014</td>\n",
       "      <td>1425.476744</td>\n",
       "      <td>499.539680</td>\n",
       "      <td>3.870671</td>\n",
       "      <td>206855.816909</td>\n",
       "    </tr>\n",
       "    <tr>\n",
       "      <th>std</th>\n",
       "      <td>12.585558</td>\n",
       "      <td>2181.615252</td>\n",
       "      <td>421.247906</td>\n",
       "      <td>1132.462122</td>\n",
       "      <td>382.329753</td>\n",
       "      <td>1.899822</td>\n",
       "      <td>115395.615874</td>\n",
       "    </tr>\n",
       "    <tr>\n",
       "      <th>min</th>\n",
       "      <td>1.000000</td>\n",
       "      <td>2.000000</td>\n",
       "      <td>1.000000</td>\n",
       "      <td>3.000000</td>\n",
       "      <td>1.000000</td>\n",
       "      <td>0.499900</td>\n",
       "      <td>14999.000000</td>\n",
       "    </tr>\n",
       "    <tr>\n",
       "      <th>25%</th>\n",
       "      <td>18.000000</td>\n",
       "      <td>1447.750000</td>\n",
       "      <td>295.000000</td>\n",
       "      <td>787.000000</td>\n",
       "      <td>280.000000</td>\n",
       "      <td>2.563400</td>\n",
       "      <td>119600.000000</td>\n",
       "    </tr>\n",
       "    <tr>\n",
       "      <th>50%</th>\n",
       "      <td>29.000000</td>\n",
       "      <td>2127.000000</td>\n",
       "      <td>435.000000</td>\n",
       "      <td>1166.000000</td>\n",
       "      <td>409.000000</td>\n",
       "      <td>3.534800</td>\n",
       "      <td>179700.000000</td>\n",
       "    </tr>\n",
       "    <tr>\n",
       "      <th>75%</th>\n",
       "      <td>37.000000</td>\n",
       "      <td>3148.000000</td>\n",
       "      <td>647.000000</td>\n",
       "      <td>1725.000000</td>\n",
       "      <td>605.000000</td>\n",
       "      <td>4.743250</td>\n",
       "      <td>264725.000000</td>\n",
       "    </tr>\n",
       "    <tr>\n",
       "      <th>max</th>\n",
       "      <td>52.000000</td>\n",
       "      <td>39320.000000</td>\n",
       "      <td>6445.000000</td>\n",
       "      <td>35682.000000</td>\n",
       "      <td>6082.000000</td>\n",
       "      <td>15.000100</td>\n",
       "      <td>500001.000000</td>\n",
       "    </tr>\n",
       "  </tbody>\n",
       "</table>\n",
       "</div>"
      ],
      "text/plain": [
       "       housingMedianAge    totalRooms  totalBedrooms    population  \\\n",
       "count      20640.000000  20640.000000   20640.000000  20640.000000   \n",
       "mean          28.639486   2635.763081     537.898014   1425.476744   \n",
       "std           12.585558   2181.615252     421.247906   1132.462122   \n",
       "min            1.000000      2.000000       1.000000      3.000000   \n",
       "25%           18.000000   1447.750000     295.000000    787.000000   \n",
       "50%           29.000000   2127.000000     435.000000   1166.000000   \n",
       "75%           37.000000   3148.000000     647.000000   1725.000000   \n",
       "max           52.000000  39320.000000    6445.000000  35682.000000   \n",
       "\n",
       "         households  medianIncome  medianHouseValue  \n",
       "count  20640.000000  20640.000000      20640.000000  \n",
       "mean     499.539680      3.870671     206855.816909  \n",
       "std      382.329753      1.899822     115395.615874  \n",
       "min        1.000000      0.499900      14999.000000  \n",
       "25%      280.000000      2.563400     119600.000000  \n",
       "50%      409.000000      3.534800     179700.000000  \n",
       "75%      605.000000      4.743250     264725.000000  \n",
       "max     6082.000000     15.000100     500001.000000  "
      ]
     },
     "execution_count": 397,
     "metadata": {},
     "output_type": "execute_result"
    }
   ],
   "source": [
    "housing.describe()"
   ]
  },
  {
   "cell_type": "code",
   "execution_count": 398,
   "metadata": {
    "collapsed": false
   },
   "outputs": [
    {
     "data": {
      "text/plain": [
       "20640"
      ]
     },
     "execution_count": 398,
     "metadata": {},
     "output_type": "execute_result"
    }
   ],
   "source": [
    "len(housing)"
   ]
  },
  {
   "cell_type": "code",
   "execution_count": null,
   "metadata": {
    "collapsed": false
   },
   "outputs": [],
   "source": []
  },
  {
   "cell_type": "code",
   "execution_count": 399,
   "metadata": {
    "collapsed": true
   },
   "outputs": [],
   "source": [
    "feature_cols = ['housingMedianAge','totalRooms','totalBedrooms','population','households','medianIncome']"
   ]
  },
  {
   "cell_type": "code",
   "execution_count": 400,
   "metadata": {
    "collapsed": false
   },
   "outputs": [],
   "source": [
    "x_data = housing.drop('medianHouseValue',axis=1)\n",
    "y_data = housing['medianHouseValue']"
   ]
  },
  {
   "cell_type": "code",
   "execution_count": 401,
   "metadata": {
    "collapsed": true
   },
   "outputs": [],
   "source": [
    "x_train,x_test,y_train,y_test = train_test_split(x_data,y_data,test_size=0.3,random_state=101)"
   ]
  },
  {
   "cell_type": "code",
   "execution_count": 402,
   "metadata": {
    "collapsed": false
   },
   "outputs": [
    {
     "data": {
      "text/plain": [
       "14448"
      ]
     },
     "execution_count": 402,
     "metadata": {},
     "output_type": "execute_result"
    }
   ],
   "source": [
    "len(x_train)"
   ]
  },
  {
   "cell_type": "code",
   "execution_count": 403,
   "metadata": {
    "collapsed": false
   },
   "outputs": [
    {
     "data": {
      "text/plain": [
       "6192"
      ]
     },
     "execution_count": 403,
     "metadata": {},
     "output_type": "execute_result"
    }
   ],
   "source": [
    "len(x_test)"
   ]
  },
  {
   "cell_type": "markdown",
   "metadata": {},
   "source": [
    "Using the MinMaxScaler for scaling the data."
   ]
  },
  {
   "cell_type": "code",
   "execution_count": 404,
   "metadata": {
    "collapsed": true
   },
   "outputs": [],
   "source": [
    "scaler = MinMaxScaler()\n"
   ]
  },
  {
   "cell_type": "code",
   "execution_count": 405,
   "metadata": {
    "collapsed": false
   },
   "outputs": [],
   "source": [
    "train_scale_housing = scalar.fit(x_train)\n",
    "train_scale_housing = scaler.fit_transform(x_train)\n",
    "test_scale_housing = scaler.fit_transform(x_test)"
   ]
  },
  {
   "cell_type": "code",
   "execution_count": 406,
   "metadata": {
    "collapsed": false
   },
   "outputs": [],
   "source": [
    "train_housing_df = pd.DataFrame(data = train_scale_housing,columns=feature_cols)"
   ]
  },
  {
   "cell_type": "code",
   "execution_count": 407,
   "metadata": {
    "collapsed": false
   },
   "outputs": [
    {
     "data": {
      "text/html": [
       "<div>\n",
       "<style>\n",
       "    .dataframe thead tr:only-child th {\n",
       "        text-align: right;\n",
       "    }\n",
       "\n",
       "    .dataframe thead th {\n",
       "        text-align: left;\n",
       "    }\n",
       "\n",
       "    .dataframe tbody tr th {\n",
       "        vertical-align: top;\n",
       "    }\n",
       "</style>\n",
       "<table border=\"1\" class=\"dataframe\">\n",
       "  <thead>\n",
       "    <tr style=\"text-align: right;\">\n",
       "      <th></th>\n",
       "      <th>housingMedianAge</th>\n",
       "      <th>totalRooms</th>\n",
       "      <th>totalBedrooms</th>\n",
       "      <th>population</th>\n",
       "      <th>households</th>\n",
       "      <th>medianIncome</th>\n",
       "    </tr>\n",
       "  </thead>\n",
       "  <tbody>\n",
       "    <tr>\n",
       "      <th>0</th>\n",
       "      <td>0.352941</td>\n",
       "      <td>0.069688</td>\n",
       "      <td>0.117163</td>\n",
       "      <td>0.048769</td>\n",
       "      <td>0.115442</td>\n",
       "      <td>0.142508</td>\n",
       "    </tr>\n",
       "    <tr>\n",
       "      <th>1</th>\n",
       "      <td>0.607843</td>\n",
       "      <td>0.011242</td>\n",
       "      <td>0.015673</td>\n",
       "      <td>0.008367</td>\n",
       "      <td>0.014142</td>\n",
       "      <td>0.045027</td>\n",
       "    </tr>\n",
       "    <tr>\n",
       "      <th>2</th>\n",
       "      <td>0.666667</td>\n",
       "      <td>0.025230</td>\n",
       "      <td>0.031347</td>\n",
       "      <td>0.020971</td>\n",
       "      <td>0.030258</td>\n",
       "      <td>0.212866</td>\n",
       "    </tr>\n",
       "    <tr>\n",
       "      <th>3</th>\n",
       "      <td>0.666667</td>\n",
       "      <td>0.032530</td>\n",
       "      <td>0.033830</td>\n",
       "      <td>0.024752</td>\n",
       "      <td>0.030094</td>\n",
       "      <td>0.298651</td>\n",
       "    </tr>\n",
       "    <tr>\n",
       "      <th>4</th>\n",
       "      <td>0.294118</td>\n",
       "      <td>0.031919</td>\n",
       "      <td>0.035692</td>\n",
       "      <td>0.019466</td>\n",
       "      <td>0.034863</td>\n",
       "      <td>0.272631</td>\n",
       "    </tr>\n",
       "  </tbody>\n",
       "</table>\n",
       "</div>"
      ],
      "text/plain": [
       "   housingMedianAge  totalRooms  totalBedrooms  population  households  \\\n",
       "0          0.352941    0.069688       0.117163    0.048769    0.115442   \n",
       "1          0.607843    0.011242       0.015673    0.008367    0.014142   \n",
       "2          0.666667    0.025230       0.031347    0.020971    0.030258   \n",
       "3          0.666667    0.032530       0.033830    0.024752    0.030094   \n",
       "4          0.294118    0.031919       0.035692    0.019466    0.034863   \n",
       "\n",
       "   medianIncome  \n",
       "0      0.142508  \n",
       "1      0.045027  \n",
       "2      0.212866  \n",
       "3      0.298651  \n",
       "4      0.272631  "
      ]
     },
     "execution_count": 407,
     "metadata": {},
     "output_type": "execute_result"
    }
   ],
   "source": [
    "train_housing_df.head()"
   ]
  },
  {
   "cell_type": "code",
   "execution_count": 408,
   "metadata": {
    "collapsed": true
   },
   "outputs": [],
   "source": [
    "test_housing_df = pd.DataFrame(data = test_scale_housing,columns=feature_cols)"
   ]
  },
  {
   "cell_type": "code",
   "execution_count": 409,
   "metadata": {
    "collapsed": false
   },
   "outputs": [
    {
     "data": {
      "text/html": [
       "<div>\n",
       "<style>\n",
       "    .dataframe thead tr:only-child th {\n",
       "        text-align: right;\n",
       "    }\n",
       "\n",
       "    .dataframe thead th {\n",
       "        text-align: left;\n",
       "    }\n",
       "\n",
       "    .dataframe tbody tr th {\n",
       "        vertical-align: top;\n",
       "    }\n",
       "</style>\n",
       "<table border=\"1\" class=\"dataframe\">\n",
       "  <thead>\n",
       "    <tr style=\"text-align: right;\">\n",
       "      <th></th>\n",
       "      <th>housingMedianAge</th>\n",
       "      <th>totalRooms</th>\n",
       "      <th>totalBedrooms</th>\n",
       "      <th>population</th>\n",
       "      <th>households</th>\n",
       "      <th>medianIncome</th>\n",
       "    </tr>\n",
       "  </thead>\n",
       "  <tbody>\n",
       "    <tr>\n",
       "      <th>0</th>\n",
       "      <td>0.686275</td>\n",
       "      <td>0.064243</td>\n",
       "      <td>0.058586</td>\n",
       "      <td>0.020575</td>\n",
       "      <td>0.062094</td>\n",
       "      <td>0.353133</td>\n",
       "    </tr>\n",
       "    <tr>\n",
       "      <th>1</th>\n",
       "      <td>0.705882</td>\n",
       "      <td>0.038015</td>\n",
       "      <td>0.026869</td>\n",
       "      <td>0.010035</td>\n",
       "      <td>0.029369</td>\n",
       "      <td>0.770182</td>\n",
       "    </tr>\n",
       "    <tr>\n",
       "      <th>2</th>\n",
       "      <td>0.901961</td>\n",
       "      <td>0.044846</td>\n",
       "      <td>0.052929</td>\n",
       "      <td>0.033217</td>\n",
       "      <td>0.054122</td>\n",
       "      <td>0.133626</td>\n",
       "    </tr>\n",
       "    <tr>\n",
       "      <th>3</th>\n",
       "      <td>0.313725</td>\n",
       "      <td>0.059996</td>\n",
       "      <td>0.059798</td>\n",
       "      <td>0.026154</td>\n",
       "      <td>0.061045</td>\n",
       "      <td>0.263576</td>\n",
       "    </tr>\n",
       "    <tr>\n",
       "      <th>4</th>\n",
       "      <td>0.411765</td>\n",
       "      <td>0.122929</td>\n",
       "      <td>0.090101</td>\n",
       "      <td>0.034871</td>\n",
       "      <td>0.091882</td>\n",
       "      <td>0.660046</td>\n",
       "    </tr>\n",
       "  </tbody>\n",
       "</table>\n",
       "</div>"
      ],
      "text/plain": [
       "   housingMedianAge  totalRooms  totalBedrooms  population  households  \\\n",
       "0          0.686275    0.064243       0.058586    0.020575    0.062094   \n",
       "1          0.705882    0.038015       0.026869    0.010035    0.029369   \n",
       "2          0.901961    0.044846       0.052929    0.033217    0.054122   \n",
       "3          0.313725    0.059996       0.059798    0.026154    0.061045   \n",
       "4          0.411765    0.122929       0.090101    0.034871    0.091882   \n",
       "\n",
       "   medianIncome  \n",
       "0      0.353133  \n",
       "1      0.770182  \n",
       "2      0.133626  \n",
       "3      0.263576  \n",
       "4      0.660046  "
      ]
     },
     "execution_count": 409,
     "metadata": {},
     "output_type": "execute_result"
    }
   ],
   "source": [
    "test_housing_df.head()"
   ]
  },
  {
   "cell_type": "code",
   "execution_count": 410,
   "metadata": {
    "collapsed": true
   },
   "outputs": [],
   "source": [
    "housing_MA = tf.feature_column.numeric_column('housingMedianAge')\n",
    "total_rooms = tf.feature_column.numeric_column('totalRooms')\n",
    "total_BR = tf.feature_column.numeric_column('totalBedrooms')\n",
    "population = tf.feature_column.numeric_column('population')\n",
    "households = tf.feature_column.numeric_column('households')\n",
    "m_income = tf.feature_column.numeric_column('medianIncome')"
   ]
  },
  {
   "cell_type": "code",
   "execution_count": 411,
   "metadata": {
    "collapsed": true
   },
   "outputs": [],
   "source": [
    "feat_cols = [housing_MA,total_rooms,total_BR,population,households,m_income]"
   ]
  },
  {
   "cell_type": "code",
   "execution_count": 412,
   "metadata": {
    "collapsed": true
   },
   "outputs": [],
   "source": [
    "input_func = tf.estimator.inputs.pandas_input_fn(x=x_train,y=y_train,num_epochs=10000,batch_size=8,shuffle=True)"
   ]
  },
  {
   "cell_type": "code",
   "execution_count": 413,
   "metadata": {
    "collapsed": false
   },
   "outputs": [
    {
     "name": "stdout",
     "output_type": "stream",
     "text": [
      "INFO:tensorflow:Using default config.\n",
      "WARNING:tensorflow:Using temporary folder as model directory: C:\\Users\\mamid\\AppData\\Local\\Temp\\tmp0hv3nxtj\n",
      "INFO:tensorflow:Using config: {'_save_summary_steps': 100, '_save_checkpoints_steps': None, '_session_config': None, '_keep_checkpoint_every_n_hours': 10000, '_tf_random_seed': 1, '_model_dir': 'C:\\\\Users\\\\mamid\\\\AppData\\\\Local\\\\Temp\\\\tmp0hv3nxtj', '_log_step_count_steps': 100, '_save_checkpoints_secs': 600, '_keep_checkpoint_max': 5}\n"
     ]
    }
   ],
   "source": [
    "dnn_reg = tf.estimator.DNNRegressor(feature_columns=feat_cols,hidden_units=[6,6,6,6])"
   ]
  },
  {
   "cell_type": "code",
   "execution_count": 414,
   "metadata": {
    "collapsed": false
   },
   "outputs": [
    {
     "name": "stdout",
     "output_type": "stream",
     "text": [
      "INFO:tensorflow:Create CheckpointSaverHook.\n",
      "INFO:tensorflow:Saving checkpoints for 1 into C:\\Users\\mamid\\AppData\\Local\\Temp\\tmp0hv3nxtj\\model.ckpt.\n",
      "INFO:tensorflow:loss = 4.28531e+11, step = 1\n",
      "INFO:tensorflow:global_step/sec: 329.703\n",
      "INFO:tensorflow:loss = 1.82245e+11, step = 101 (0.310 sec)\n",
      "INFO:tensorflow:global_step/sec: 317.535\n",
      "INFO:tensorflow:loss = 1.48283e+11, step = 201 (0.313 sec)\n",
      "INFO:tensorflow:global_step/sec: 302.711\n",
      "INFO:tensorflow:loss = 6.09772e+10, step = 301 (0.331 sec)\n",
      "INFO:tensorflow:global_step/sec: 329.156\n",
      "INFO:tensorflow:loss = 5.6529e+11, step = 401 (0.302 sec)\n",
      "INFO:tensorflow:global_step/sec: 329.155\n",
      "INFO:tensorflow:loss = 2.49818e+11, step = 501 (0.304 sec)\n",
      "INFO:tensorflow:global_step/sec: 282.508\n",
      "INFO:tensorflow:loss = 2.20764e+11, step = 601 (0.353 sec)\n",
      "INFO:tensorflow:global_step/sec: 330.245\n",
      "INFO:tensorflow:loss = 1.11507e+11, step = 701 (0.303 sec)\n",
      "INFO:tensorflow:global_step/sec: 299.081\n",
      "INFO:tensorflow:loss = 2.76284e+11, step = 801 (0.332 sec)\n",
      "INFO:tensorflow:global_step/sec: 299.952\n",
      "INFO:tensorflow:loss = 5.40193e+11, step = 901 (0.336 sec)\n",
      "INFO:tensorflow:global_step/sec: 308.774\n",
      "INFO:tensorflow:loss = 1.27054e+11, step = 1001 (0.324 sec)\n",
      "INFO:tensorflow:global_step/sec: 343.864\n",
      "INFO:tensorflow:loss = 1.14604e+11, step = 1101 (0.290 sec)\n",
      "INFO:tensorflow:global_step/sec: 305.463\n",
      "INFO:tensorflow:loss = 3.77944e+10, step = 1201 (0.328 sec)\n",
      "INFO:tensorflow:global_step/sec: 303.897\n",
      "INFO:tensorflow:loss = 1.31726e+11, step = 1301 (0.329 sec)\n",
      "INFO:tensorflow:global_step/sec: 324.901\n",
      "INFO:tensorflow:loss = 3.93825e+11, step = 1401 (0.312 sec)\n",
      "INFO:tensorflow:global_step/sec: 320.173\n",
      "INFO:tensorflow:loss = 8.62619e+10, step = 1501 (0.308 sec)\n",
      "INFO:tensorflow:global_step/sec: 316.104\n",
      "INFO:tensorflow:loss = 6.24297e+10, step = 1601 (0.317 sec)\n",
      "INFO:tensorflow:global_step/sec: 322.243\n",
      "INFO:tensorflow:loss = 3.13968e+11, step = 1701 (0.310 sec)\n",
      "INFO:tensorflow:global_step/sec: 324.339\n",
      "INFO:tensorflow:loss = 7.24888e+10, step = 1801 (0.310 sec)\n",
      "INFO:tensorflow:global_step/sec: 326.996\n",
      "INFO:tensorflow:loss = 1.01345e+11, step = 1901 (0.310 sec)\n",
      "INFO:tensorflow:global_step/sec: 320.174\n",
      "INFO:tensorflow:loss = 6.01554e+10, step = 2001 (0.312 sec)\n",
      "INFO:tensorflow:global_step/sec: 312.646\n",
      "INFO:tensorflow:loss = 1.91442e+11, step = 2101 (0.312 sec)\n",
      "INFO:tensorflow:global_step/sec: 286.576\n",
      "INFO:tensorflow:loss = 1.80507e+11, step = 2201 (0.355 sec)\n",
      "INFO:tensorflow:global_step/sec: 323.812\n",
      "INFO:tensorflow:loss = 2.0433e+11, step = 2301 (0.305 sec)\n",
      "INFO:tensorflow:global_step/sec: 334.167\n",
      "INFO:tensorflow:loss = 2.64934e+11, step = 2401 (0.296 sec)\n",
      "INFO:tensorflow:global_step/sec: 296.749\n",
      "INFO:tensorflow:loss = 6.50651e+10, step = 2501 (0.339 sec)\n",
      "INFO:tensorflow:global_step/sec: 304.506\n",
      "INFO:tensorflow:loss = 3.71251e+11, step = 2601 (0.332 sec)\n",
      "INFO:tensorflow:global_step/sec: 303.143\n",
      "INFO:tensorflow:loss = 6.60583e+10, step = 2701 (0.327 sec)\n",
      "INFO:tensorflow:global_step/sec: 312.511\n",
      "INFO:tensorflow:loss = 3.89375e+11, step = 2801 (0.320 sec)\n",
      "INFO:tensorflow:global_step/sec: 292.458\n",
      "INFO:tensorflow:loss = 8.4667e+10, step = 2901 (0.342 sec)\n",
      "INFO:tensorflow:global_step/sec: 282.533\n",
      "INFO:tensorflow:loss = 3.86843e+11, step = 3001 (0.354 sec)\n",
      "INFO:tensorflow:global_step/sec: 287.833\n",
      "INFO:tensorflow:loss = 1.02215e+11, step = 3101 (0.347 sec)\n",
      "INFO:tensorflow:global_step/sec: 291.764\n",
      "INFO:tensorflow:loss = 1.97246e+11, step = 3201 (0.343 sec)\n",
      "INFO:tensorflow:global_step/sec: 305.231\n",
      "INFO:tensorflow:loss = 2.25839e+11, step = 3301 (0.328 sec)\n",
      "INFO:tensorflow:global_step/sec: 308.776\n",
      "INFO:tensorflow:loss = 2.42319e+11, step = 3401 (0.324 sec)\n",
      "INFO:tensorflow:global_step/sec: 330.243\n",
      "INFO:tensorflow:loss = 1.86141e+11, step = 3501 (0.306 sec)\n",
      "INFO:tensorflow:global_step/sec: 269.9\n",
      "INFO:tensorflow:loss = 8.84135e+10, step = 3601 (0.366 sec)\n",
      "INFO:tensorflow:global_step/sec: 332.42\n",
      "INFO:tensorflow:loss = 7.69553e+11, step = 3701 (0.301 sec)\n",
      "INFO:tensorflow:global_step/sec: 318.599\n",
      "INFO:tensorflow:loss = 1.10631e+11, step = 3801 (0.314 sec)\n",
      "INFO:tensorflow:global_step/sec: 287.418\n",
      "INFO:tensorflow:loss = 1.33052e+11, step = 3901 (0.346 sec)\n",
      "INFO:tensorflow:global_step/sec: 292.846\n",
      "INFO:tensorflow:loss = 7.29969e+10, step = 4001 (0.344 sec)\n",
      "INFO:tensorflow:global_step/sec: 315.119\n",
      "INFO:tensorflow:loss = 8.90032e+10, step = 4101 (0.315 sec)\n",
      "INFO:tensorflow:global_step/sec: 305.344\n",
      "INFO:tensorflow:loss = 2.74571e+11, step = 4201 (0.327 sec)\n",
      "INFO:tensorflow:global_step/sec: 295.946\n",
      "INFO:tensorflow:loss = 2.16354e+11, step = 4301 (0.344 sec)\n",
      "INFO:tensorflow:global_step/sec: 279.368\n",
      "INFO:tensorflow:loss = 1.25121e+11, step = 4401 (0.351 sec)\n",
      "INFO:tensorflow:global_step/sec: 285.944\n",
      "INFO:tensorflow:loss = 1.55539e+11, step = 4501 (0.350 sec)\n",
      "INFO:tensorflow:global_step/sec: 301.69\n",
      "INFO:tensorflow:loss = 2.53708e+11, step = 4601 (0.333 sec)\n",
      "INFO:tensorflow:global_step/sec: 321.697\n",
      "INFO:tensorflow:loss = 3.08307e+11, step = 4701 (0.313 sec)\n",
      "INFO:tensorflow:global_step/sec: 315.616\n",
      "INFO:tensorflow:loss = 2.59601e+11, step = 4801 (0.315 sec)\n",
      "INFO:tensorflow:global_step/sec: 312.079\n",
      "INFO:tensorflow:loss = 4.00204e+11, step = 4901 (0.318 sec)\n",
      "INFO:tensorflow:global_step/sec: 333.552\n",
      "INFO:tensorflow:loss = 1.14726e+11, step = 5001 (0.302 sec)\n",
      "INFO:tensorflow:global_step/sec: 312.647\n",
      "INFO:tensorflow:loss = 2.45853e+11, step = 5101 (0.319 sec)\n",
      "INFO:tensorflow:global_step/sec: 332.445\n",
      "INFO:tensorflow:loss = 4.94773e+11, step = 5201 (0.303 sec)\n",
      "INFO:tensorflow:global_step/sec: 311.177\n",
      "INFO:tensorflow:loss = 3.93217e+11, step = 5301 (0.317 sec)\n",
      "INFO:tensorflow:global_step/sec: 304.067\n",
      "INFO:tensorflow:loss = 2.75724e+11, step = 5401 (0.329 sec)\n",
      "INFO:tensorflow:global_step/sec: 316.112\n",
      "INFO:tensorflow:loss = 1.03995e+11, step = 5501 (0.318 sec)\n",
      "INFO:tensorflow:global_step/sec: 320.692\n",
      "INFO:tensorflow:loss = 5.29083e+10, step = 5601 (0.312 sec)\n",
      "INFO:tensorflow:global_step/sec: 327.48\n",
      "INFO:tensorflow:loss = 1.45575e+11, step = 5701 (0.308 sec)\n",
      "INFO:tensorflow:global_step/sec: 317.119\n",
      "INFO:tensorflow:loss = 1.84343e+11, step = 5801 (0.312 sec)\n",
      "INFO:tensorflow:global_step/sec: 304.067\n",
      "INFO:tensorflow:loss = 1.55749e+11, step = 5901 (0.327 sec)\n",
      "INFO:tensorflow:global_step/sec: 351.091\n",
      "INFO:tensorflow:loss = 1.76328e+11, step = 6001 (0.286 sec)\n",
      "INFO:tensorflow:global_step/sec: 284.142\n",
      "INFO:tensorflow:loss = 1.45123e+11, step = 6101 (0.350 sec)\n",
      "INFO:tensorflow:global_step/sec: 301.768\n",
      "INFO:tensorflow:loss = 2.73708e+11, step = 6201 (0.334 sec)\n",
      "INFO:tensorflow:global_step/sec: 339.81\n",
      "INFO:tensorflow:loss = 1.44878e+11, step = 6301 (0.295 sec)\n",
      "INFO:tensorflow:global_step/sec: 349.331\n",
      "INFO:tensorflow:loss = 7.90119e+10, step = 6401 (0.287 sec)\n",
      "INFO:tensorflow:global_step/sec: 324.313\n",
      "INFO:tensorflow:loss = 1.09697e+11, step = 6501 (0.306 sec)\n",
      "INFO:tensorflow:global_step/sec: 321.721\n",
      "INFO:tensorflow:loss = 1.69257e+11, step = 6601 (0.312 sec)\n",
      "INFO:tensorflow:global_step/sec: 310.172\n",
      "INFO:tensorflow:loss = 2.13084e+11, step = 6701 (0.325 sec)\n",
      "INFO:tensorflow:global_step/sec: 344.5\n",
      "INFO:tensorflow:loss = 5.72085e+10, step = 6801 (0.289 sec)\n",
      "INFO:tensorflow:global_step/sec: 324.537\n",
      "INFO:tensorflow:loss = 1.20535e+11, step = 6901 (0.306 sec)\n",
      "INFO:tensorflow:global_step/sec: 345.097\n",
      "INFO:tensorflow:loss = 2.25007e+11, step = 7001 (0.290 sec)\n",
      "INFO:tensorflow:global_step/sec: 304.07\n",
      "INFO:tensorflow:loss = 8.35826e+10, step = 7101 (0.329 sec)\n",
      "INFO:tensorflow:global_step/sec: 280.869\n",
      "INFO:tensorflow:loss = 2.56223e+11, step = 7201 (0.356 sec)\n",
      "INFO:tensorflow:global_step/sec: 303.171\n",
      "INFO:tensorflow:loss = 1.67564e+11, step = 7301 (0.330 sec)\n",
      "INFO:tensorflow:global_step/sec: 322.764\n",
      "INFO:tensorflow:loss = 1.12892e+11, step = 7401 (0.312 sec)\n",
      "INFO:tensorflow:global_step/sec: 325.651\n",
      "INFO:tensorflow:loss = 2.54886e+11, step = 7501 (0.309 sec)\n",
      "INFO:tensorflow:global_step/sec: 306.62\n",
      "INFO:tensorflow:loss = 7.57995e+11, step = 7601 (0.324 sec)\n",
      "INFO:tensorflow:global_step/sec: 296.854\n",
      "INFO:tensorflow:loss = 1.68413e+11, step = 7701 (0.335 sec)\n",
      "INFO:tensorflow:global_step/sec: 315.146\n",
      "INFO:tensorflow:loss = 3.23728e+11, step = 7801 (0.318 sec)\n",
      "INFO:tensorflow:global_step/sec: 318.641\n",
      "INFO:tensorflow:loss = 2.68202e+11, step = 7901 (0.313 sec)\n",
      "INFO:tensorflow:global_step/sec: 329.698\n",
      "INFO:tensorflow:loss = 1.20088e+11, step = 8001 (0.303 sec)\n",
      "INFO:tensorflow:global_step/sec: 308.297\n",
      "INFO:tensorflow:loss = 6.29348e+10, step = 8101 (0.323 sec)\n",
      "INFO:tensorflow:global_step/sec: 347.509\n",
      "INFO:tensorflow:loss = 4.11827e+10, step = 8201 (0.289 sec)\n",
      "INFO:tensorflow:global_step/sec: 313.627\n",
      "INFO:tensorflow:loss = 2.60831e+11, step = 8301 (0.319 sec)\n",
      "INFO:tensorflow:global_step/sec: 295.024\n",
      "INFO:tensorflow:loss = 1.30272e+11, step = 8401 (0.339 sec)\n",
      "INFO:tensorflow:global_step/sec: 310.666\n",
      "INFO:tensorflow:loss = 2.90707e+11, step = 8501 (0.324 sec)\n",
      "INFO:tensorflow:global_step/sec: 328.04\n",
      "INFO:tensorflow:loss = 2.0542e+11, step = 8601 (0.303 sec)\n",
      "INFO:tensorflow:global_step/sec: 305.904\n",
      "INFO:tensorflow:loss = 1.81821e+11, step = 8701 (0.326 sec)\n",
      "INFO:tensorflow:global_step/sec: 312.677\n",
      "INFO:tensorflow:loss = 7.71222e+10, step = 8801 (0.321 sec)\n",
      "INFO:tensorflow:global_step/sec: 311.18\n",
      "INFO:tensorflow:loss = 2.81621e+11, step = 8901 (0.324 sec)\n",
      "INFO:tensorflow:global_step/sec: 312.16\n",
      "INFO:tensorflow:loss = 3.10547e+11, step = 9001 (0.319 sec)\n",
      "INFO:tensorflow:global_step/sec: 317.12\n",
      "INFO:tensorflow:loss = 9.246e+10, step = 9101 (0.314 sec)\n",
      "INFO:tensorflow:global_step/sec: 309.702\n",
      "INFO:tensorflow:loss = 1.35444e+11, step = 9201 (0.324 sec)\n",
      "INFO:tensorflow:global_step/sec: 323.316\n",
      "INFO:tensorflow:loss = 1.32958e+11, step = 9301 (0.309 sec)\n",
      "INFO:tensorflow:global_step/sec: 323.287\n",
      "INFO:tensorflow:loss = 1.12722e+11, step = 9401 (0.308 sec)\n",
      "INFO:tensorflow:global_step/sec: 319.663\n",
      "INFO:tensorflow:loss = 7.2183e+10, step = 9501 (0.313 sec)\n",
      "INFO:tensorflow:global_step/sec: 314.124\n",
      "INFO:tensorflow:loss = 4.33919e+10, step = 9601 (0.319 sec)\n",
      "INFO:tensorflow:global_step/sec: 370.71\n",
      "INFO:tensorflow:loss = 4.67851e+10, step = 9701 (0.270 sec)\n",
      "INFO:tensorflow:global_step/sec: 311.12\n",
      "INFO:tensorflow:loss = 1.31952e+11, step = 9801 (0.321 sec)\n",
      "INFO:tensorflow:global_step/sec: 311.696\n",
      "INFO:tensorflow:loss = 4.65152e+11, step = 9901 (0.319 sec)\n",
      "INFO:tensorflow:global_step/sec: 315.119\n",
      "INFO:tensorflow:loss = 2.20402e+11, step = 10001 (0.318 sec)\n",
      "INFO:tensorflow:global_step/sec: 306.526\n",
      "INFO:tensorflow:loss = 2.70167e+11, step = 10101 (0.326 sec)\n",
      "INFO:tensorflow:global_step/sec: 311.184\n",
      "INFO:tensorflow:loss = 1.33148e+11, step = 10201 (0.321 sec)\n",
      "INFO:tensorflow:global_step/sec: 313.627\n",
      "INFO:tensorflow:loss = 1.97379e+11, step = 10301 (0.321 sec)\n",
      "INFO:tensorflow:global_step/sec: 302.685\n",
      "INFO:tensorflow:loss = 4.61986e+10, step = 10401 (0.328 sec)\n",
      "INFO:tensorflow:global_step/sec: 326.997\n",
      "INFO:tensorflow:loss = 1.55047e+11, step = 10501 (0.307 sec)\n",
      "INFO:tensorflow:global_step/sec: 323.26\n",
      "INFO:tensorflow:loss = 9.78757e+10, step = 10601 (0.313 sec)\n",
      "INFO:tensorflow:global_step/sec: 323.144\n",
      "INFO:tensorflow:loss = 3.52866e+10, step = 10701 (0.307 sec)\n",
      "INFO:tensorflow:global_step/sec: 296.06\n",
      "INFO:tensorflow:loss = 3.48043e+11, step = 10801 (0.333 sec)\n",
      "INFO:tensorflow:global_step/sec: 325.929\n",
      "INFO:tensorflow:loss = 2.0743e+11, step = 10901 (0.309 sec)\n",
      "INFO:tensorflow:global_step/sec: 319.661\n",
      "INFO:tensorflow:loss = 3.58741e+11, step = 11001 (0.313 sec)\n",
      "INFO:tensorflow:global_step/sec: 341.589\n",
      "INFO:tensorflow:loss = 1.83439e+11, step = 11101 (0.294 sec)\n",
      "INFO:tensorflow:global_step/sec: 328.073\n",
      "INFO:tensorflow:loss = 1.08345e+11, step = 11201 (0.301 sec)\n",
      "INFO:tensorflow:global_step/sec: 318.128\n",
      "INFO:tensorflow:loss = 8.24989e+11, step = 11301 (0.317 sec)\n",
      "INFO:tensorflow:global_step/sec: 316.588\n",
      "INFO:tensorflow:loss = 2.43571e+11, step = 11401 (0.316 sec)\n",
      "INFO:tensorflow:global_step/sec: 301.331\n",
      "INFO:tensorflow:loss = 9.98522e+10, step = 11501 (0.332 sec)\n",
      "INFO:tensorflow:global_step/sec: 323.811\n",
      "INFO:tensorflow:loss = 2.45735e+11, step = 11601 (0.313 sec)\n",
      "INFO:tensorflow:global_step/sec: 291.977\n",
      "INFO:tensorflow:loss = 3.03839e+11, step = 11701 (0.339 sec)\n",
      "INFO:tensorflow:global_step/sec: 271.325\n",
      "INFO:tensorflow:loss = 4.48261e+10, step = 11801 (0.369 sec)\n",
      "INFO:tensorflow:global_step/sec: 304.067\n",
      "INFO:tensorflow:loss = 7.46106e+10, step = 11901 (0.329 sec)\n",
      "INFO:tensorflow:global_step/sec: 334.625\n",
      "INFO:tensorflow:loss = 2.45318e+11, step = 12001 (0.297 sec)\n",
      "INFO:tensorflow:global_step/sec: 296.813\n",
      "INFO:tensorflow:loss = 2.15499e+11, step = 12101 (0.338 sec)\n",
      "INFO:tensorflow:global_step/sec: 292.889\n",
      "INFO:tensorflow:loss = 3.02253e+11, step = 12201 (0.340 sec)\n",
      "INFO:tensorflow:global_step/sec: 357.471\n",
      "INFO:tensorflow:loss = 1.85206e+11, step = 12301 (0.285 sec)\n",
      "INFO:tensorflow:global_step/sec: 319.661\n",
      "INFO:tensorflow:loss = 1.89426e+11, step = 12401 (0.307 sec)\n",
      "INFO:tensorflow:global_step/sec: 322.242\n",
      "INFO:tensorflow:loss = 2.46026e+11, step = 12501 (0.312 sec)\n",
      "INFO:tensorflow:global_step/sec: 311.389\n",
      "INFO:tensorflow:loss = 5.67669e+10, step = 12601 (0.321 sec)\n",
      "INFO:tensorflow:global_step/sec: 253.639\n",
      "INFO:tensorflow:loss = 8.55223e+10, step = 12701 (0.397 sec)\n",
      "INFO:tensorflow:global_step/sec: 298.134\n",
      "INFO:tensorflow:loss = 2.44641e+10, step = 12801 (0.330 sec)\n",
      "INFO:tensorflow:global_step/sec: 354.329\n",
      "INFO:tensorflow:loss = 1.66045e+11, step = 12901 (0.290 sec)\n",
      "INFO:tensorflow:global_step/sec: 338.083\n",
      "INFO:tensorflow:loss = 2.03285e+11, step = 13001 (0.289 sec)\n",
      "INFO:tensorflow:global_step/sec: 372.13\n",
      "INFO:tensorflow:loss = 2.24093e+11, step = 13101 (0.269 sec)\n",
      "INFO:tensorflow:global_step/sec: 307.788\n",
      "INFO:tensorflow:loss = 1.59797e+11, step = 13201 (0.325 sec)\n",
      "INFO:tensorflow:global_step/sec: 352.418\n",
      "INFO:tensorflow:loss = 1.20037e+11, step = 13301 (0.289 sec)\n",
      "INFO:tensorflow:global_step/sec: 300.855\n",
      "INFO:tensorflow:loss = 2.27387e+10, step = 13401 (0.329 sec)\n",
      "INFO:tensorflow:global_step/sec: 310.217\n",
      "INFO:tensorflow:loss = 1.73179e+11, step = 13501 (0.319 sec)\n",
      "INFO:tensorflow:global_step/sec: 352.385\n",
      "INFO:tensorflow:loss = 2.86156e+10, step = 13601 (0.288 sec)\n",
      "INFO:tensorflow:global_step/sec: 370.769\n",
      "INFO:tensorflow:loss = 1.07241e+12, step = 13701 (0.267 sec)\n",
      "INFO:tensorflow:global_step/sec: 387.981\n",
      "INFO:tensorflow:loss = 1.66474e+11, step = 13801 (0.258 sec)\n",
      "INFO:tensorflow:global_step/sec: 412.976\n",
      "INFO:tensorflow:loss = 1.28106e+10, step = 13901 (0.244 sec)\n",
      "INFO:tensorflow:global_step/sec: 384.332\n",
      "INFO:tensorflow:loss = 4.47819e+10, step = 14001 (0.260 sec)\n",
      "INFO:tensorflow:global_step/sec: 336.372\n",
      "INFO:tensorflow:loss = 2.59268e+10, step = 14101 (0.296 sec)\n",
      "INFO:tensorflow:global_step/sec: 333.554\n",
      "INFO:tensorflow:loss = 5.88038e+10, step = 14201 (0.302 sec)\n",
      "INFO:tensorflow:global_step/sec: 314.127\n",
      "INFO:tensorflow:loss = 1.59584e+11, step = 14301 (0.322 sec)\n",
      "INFO:tensorflow:global_step/sec: 330.772\n",
      "INFO:tensorflow:loss = 7.27581e+11, step = 14401 (0.302 sec)\n",
      "INFO:tensorflow:global_step/sec: 352.991\n",
      "INFO:tensorflow:loss = 1.06393e+11, step = 14501 (0.284 sec)\n",
      "INFO:tensorflow:global_step/sec: 342.156\n",
      "INFO:tensorflow:loss = 6.3469e+10, step = 14601 (0.287 sec)\n",
      "INFO:tensorflow:global_step/sec: 397.329\n",
      "INFO:tensorflow:loss = 7.06314e+10, step = 14701 (0.254 sec)\n",
      "INFO:tensorflow:global_step/sec: 399.718\n",
      "INFO:tensorflow:loss = 2.77041e+11, step = 14801 (0.248 sec)\n",
      "INFO:tensorflow:global_step/sec: 360.051\n",
      "INFO:tensorflow:loss = 9.10235e+10, step = 14901 (0.279 sec)\n",
      "INFO:tensorflow:global_step/sec: 346.872\n",
      "INFO:tensorflow:loss = 1.46734e+11, step = 15001 (0.287 sec)\n",
      "INFO:tensorflow:global_step/sec: 360.701\n",
      "INFO:tensorflow:loss = 7.31525e+10, step = 15101 (0.278 sec)\n",
      "INFO:tensorflow:global_step/sec: 360.053\n",
      "INFO:tensorflow:loss = 6.40602e+10, step = 15201 (0.278 sec)\n",
      "INFO:tensorflow:global_step/sec: 371.448\n",
      "INFO:tensorflow:loss = 1.07731e+11, step = 15301 (0.271 sec)\n",
      "INFO:tensorflow:global_step/sec: 382.853\n",
      "INFO:tensorflow:loss = 1.06917e+11, step = 15401 (0.258 sec)\n",
      "INFO:tensorflow:global_step/sec: 337.479\n",
      "INFO:tensorflow:loss = 1.96147e+10, step = 15501 (0.297 sec)\n",
      "INFO:tensorflow:global_step/sec: 364.658\n",
      "INFO:tensorflow:loss = 1.38375e+11, step = 15601 (0.276 sec)\n",
      "INFO:tensorflow:global_step/sec: 433.626\n",
      "INFO:tensorflow:loss = 1.27892e+11, step = 15701 (0.230 sec)\n",
      "INFO:tensorflow:global_step/sec: 354.926\n",
      "INFO:tensorflow:loss = 3.71712e+11, step = 15801 (0.288 sec)\n",
      "INFO:tensorflow:global_step/sec: 373.537\n",
      "INFO:tensorflow:loss = 3.39723e+10, step = 15901 (0.261 sec)\n",
      "INFO:tensorflow:global_step/sec: 409.585\n",
      "INFO:tensorflow:loss = 1.655e+11, step = 16001 (0.243 sec)\n",
      "INFO:tensorflow:global_step/sec: 357.47\n",
      "INFO:tensorflow:loss = 1.58705e+11, step = 16101 (0.280 sec)\n",
      "INFO:tensorflow:global_step/sec: 393.38\n",
      "INFO:tensorflow:loss = 6.59747e+10, step = 16201 (0.252 sec)\n",
      "INFO:tensorflow:global_step/sec: 407.961\n",
      "INFO:tensorflow:loss = 5.63495e+10, step = 16301 (0.246 sec)\n",
      "INFO:tensorflow:global_step/sec: 426.728\n",
      "INFO:tensorflow:loss = 3.63304e+10, step = 16401 (0.238 sec)\n",
      "INFO:tensorflow:global_step/sec: 421.208\n",
      "INFO:tensorflow:loss = 5.1689e+11, step = 16501 (0.238 sec)\n",
      "INFO:tensorflow:global_step/sec: 330.782\n",
      "INFO:tensorflow:loss = 9.56826e+10, step = 16601 (0.301 sec)\n",
      "INFO:tensorflow:global_step/sec: 318.045\n",
      "INFO:tensorflow:loss = 6.75263e+10, step = 16701 (0.317 sec)\n",
      "INFO:tensorflow:global_step/sec: 316.923\n",
      "INFO:tensorflow:loss = 7.8619e+10, step = 16801 (0.314 sec)\n",
      "INFO:tensorflow:global_step/sec: 337.12\n",
      "INFO:tensorflow:loss = 1.71836e+11, step = 16901 (0.296 sec)\n",
      "INFO:tensorflow:global_step/sec: 319.661\n",
      "INFO:tensorflow:loss = 3.05241e+11, step = 17001 (0.312 sec)\n",
      "INFO:tensorflow:global_step/sec: 299.485\n",
      "INFO:tensorflow:loss = 4.9134e+10, step = 17101 (0.334 sec)\n",
      "INFO:tensorflow:global_step/sec: 342.14\n",
      "INFO:tensorflow:loss = 6.06685e+10, step = 17201 (0.295 sec)\n",
      "INFO:tensorflow:global_step/sec: 331.894\n",
      "INFO:tensorflow:loss = 6.73513e+10, step = 17301 (0.299 sec)\n",
      "INFO:tensorflow:global_step/sec: 320.173\n",
      "INFO:tensorflow:loss = 4.89513e+10, step = 17401 (0.312 sec)\n",
      "INFO:tensorflow:global_step/sec: 327.534\n",
      "INFO:tensorflow:loss = 4.60196e+10, step = 17501 (0.305 sec)\n",
      "INFO:tensorflow:global_step/sec: 378.475\n",
      "INFO:tensorflow:loss = 8.42994e+10, step = 17601 (0.265 sec)\n",
      "INFO:tensorflow:global_step/sec: 383.591\n",
      "INFO:tensorflow:loss = 2.05357e+10, step = 17701 (0.257 sec)\n",
      "INFO:tensorflow:global_step/sec: 372.142\n",
      "INFO:tensorflow:loss = 1.30264e+10, step = 17801 (0.270 sec)\n",
      "INFO:tensorflow:global_step/sec: 412.125\n",
      "INFO:tensorflow:loss = 1.3426e+11, step = 17901 (0.242 sec)\n",
      "INFO:tensorflow:global_step/sec: 412.025\n",
      "INFO:tensorflow:loss = 2.52828e+11, step = 18001 (0.242 sec)\n",
      "INFO:tensorflow:global_step/sec: 459.95\n",
      "INFO:tensorflow:loss = 2.34068e+10, step = 18101 (0.220 sec)\n",
      "INFO:tensorflow:global_step/sec: 417.975\n",
      "INFO:tensorflow:loss = 5.21026e+10, step = 18201 (0.241 sec)\n",
      "INFO:tensorflow:global_step/sec: 394.059\n",
      "INFO:tensorflow:loss = 4.40328e+10, step = 18301 (0.254 sec)\n",
      "INFO:tensorflow:global_step/sec: 409.744\n",
      "INFO:tensorflow:loss = 4.76542e+10, step = 18401 (0.246 sec)\n",
      "INFO:tensorflow:global_step/sec: 398.935\n",
      "INFO:tensorflow:loss = 1.51847e+11, step = 18501 (0.246 sec)\n",
      "INFO:tensorflow:global_step/sec: 353.041\n",
      "INFO:tensorflow:loss = 1.40393e+11, step = 18601 (0.288 sec)\n",
      "INFO:tensorflow:global_step/sec: 333.559\n",
      "INFO:tensorflow:loss = 6.94157e+10, step = 18701 (0.298 sec)\n",
      "INFO:tensorflow:global_step/sec: 330.793\n",
      "INFO:tensorflow:loss = 9.13195e+10, step = 18801 (0.305 sec)\n",
      "INFO:tensorflow:global_step/sec: 299.052\n",
      "INFO:tensorflow:loss = 1.23504e+11, step = 18901 (0.329 sec)\n",
      "INFO:tensorflow:global_step/sec: 382.858\n",
      "INFO:tensorflow:loss = 2.18287e+11, step = 19001 (0.264 sec)\n",
      "INFO:tensorflow:global_step/sec: 384.226\n",
      "INFO:tensorflow:loss = 8.97564e+10, step = 19101 (0.258 sec)\n",
      "INFO:tensorflow:global_step/sec: 364.05\n",
      "INFO:tensorflow:loss = 2.7238e+10, step = 19201 (0.276 sec)\n",
      "INFO:tensorflow:global_step/sec: 339.809\n",
      "INFO:tensorflow:loss = 7.62916e+10, step = 19301 (0.294 sec)\n",
      "INFO:tensorflow:global_step/sec: 334.119\n",
      "INFO:tensorflow:loss = 4.39394e+10, step = 19401 (0.301 sec)\n",
      "INFO:tensorflow:global_step/sec: 323.811\n",
      "INFO:tensorflow:loss = 4.84776e+10, step = 19501 (0.307 sec)\n",
      "INFO:tensorflow:global_step/sec: 341.536\n",
      "INFO:tensorflow:loss = 3.86069e+10, step = 19601 (0.300 sec)\n",
      "INFO:tensorflow:global_step/sec: 329.699\n",
      "INFO:tensorflow:loss = 8.13093e+10, step = 19701 (0.297 sec)\n",
      "INFO:tensorflow:global_step/sec: 302.654\n",
      "INFO:tensorflow:loss = 5.89271e+10, step = 19801 (0.329 sec)\n",
      "INFO:tensorflow:global_step/sec: 304.097\n",
      "INFO:tensorflow:loss = 2.91101e+11, step = 19901 (0.331 sec)\n",
      "INFO:tensorflow:Saving checkpoints for 20000 into C:\\Users\\mamid\\AppData\\Local\\Temp\\tmp0hv3nxtj\\model.ckpt.\n",
      "INFO:tensorflow:Loss for final step: 1.8588e+11.\n"
     ]
    },
    {
     "data": {
      "text/plain": [
       "<tensorflow.python.estimator.canned.dnn.DNNRegressor at 0x1b8a20a8f98>"
      ]
     },
     "execution_count": 414,
     "metadata": {},
     "output_type": "execute_result"
    }
   ],
   "source": [
    "dnn_reg.train(input_fn=input_func,steps=20000)"
   ]
  },
  {
   "cell_type": "code",
   "execution_count": 415,
   "metadata": {
    "collapsed": true
   },
   "outputs": [],
   "source": [
    "pred_func = tf.estimator.inputs.pandas_input_fn(x=x_test,num_epochs=1,batch_size=8,shuffle=False)"
   ]
  },
  {
   "cell_type": "code",
   "execution_count": 416,
   "metadata": {
    "collapsed": false
   },
   "outputs": [],
   "source": [
    "predictions = dnn_reg.predict(input_fn=pred_func)"
   ]
  },
  {
   "cell_type": "code",
   "execution_count": 417,
   "metadata": {
    "collapsed": false
   },
   "outputs": [
    {
     "name": "stdout",
     "output_type": "stream",
     "text": [
      "INFO:tensorflow:Restoring parameters from C:\\Users\\mamid\\AppData\\Local\\Temp\\tmp0hv3nxtj\\model.ckpt-20000\n"
     ]
    }
   ],
   "source": [
    "preds = []\n",
    "\n",
    "for pred in dnn_reg.predict(input_fn=pred_func):\n",
    "    \n",
    "    preds.append(pred['predictions'])\n",
    "    "
   ]
  },
  {
   "cell_type": "code",
   "execution_count": 418,
   "metadata": {
    "collapsed": false
   },
   "outputs": [],
   "source": [
    "final_predictions = []\n",
    "\n",
    "for i in range(len(preds)):\n",
    "\n",
    "   final_predictions.append(preds[i][0])"
   ]
  },
  {
   "cell_type": "code",
   "execution_count": 419,
   "metadata": {
    "collapsed": false
   },
   "outputs": [],
   "source": [
    "from sklearn.metrics import mean_squared_error\n",
    "\n",
    "error = np.sqrt(mean_squared_error(y_test,final_predictions))"
   ]
  },
  {
   "cell_type": "code",
   "execution_count": 420,
   "metadata": {
    "collapsed": false
   },
   "outputs": [
    {
     "data": {
      "text/plain": [
       "107948.99010895405"
      ]
     },
     "execution_count": 420,
     "metadata": {},
     "output_type": "execute_result"
    }
   ],
   "source": [
    "error"
   ]
  },
  {
   "cell_type": "code",
   "execution_count": 421,
   "metadata": {
    "collapsed": false
   },
   "outputs": [
    {
     "name": "stdout",
     "output_type": "stream",
     "text": [
      "INFO:tensorflow:Using default config.\n",
      "WARNING:tensorflow:Using temporary folder as model directory: C:\\Users\\mamid\\AppData\\Local\\Temp\\tmp2_u_knf3\n",
      "INFO:tensorflow:Using config: {'_save_summary_steps': 100, '_save_checkpoints_steps': None, '_session_config': None, '_keep_checkpoint_every_n_hours': 10000, '_tf_random_seed': 1, '_model_dir': 'C:\\\\Users\\\\mamid\\\\AppData\\\\Local\\\\Temp\\\\tmp2_u_knf3', '_log_step_count_steps': 100, '_save_checkpoints_secs': 600, '_keep_checkpoint_max': 5}\n"
     ]
    }
   ],
   "source": [
    "lin_model = tf.estimator.LinearRegressor(feature_columns=feat_cols)\n"
   ]
  },
  {
   "cell_type": "code",
   "execution_count": 422,
   "metadata": {
    "collapsed": false
   },
   "outputs": [
    {
     "name": "stdout",
     "output_type": "stream",
     "text": [
      "INFO:tensorflow:Create CheckpointSaverHook.\n",
      "INFO:tensorflow:Saving checkpoints for 1 into C:\\Users\\mamid\\AppData\\Local\\Temp\\tmp2_u_knf3\\model.ckpt.\n",
      "INFO:tensorflow:loss = 4.45444e+11, step = 1\n",
      "INFO:tensorflow:global_step/sec: 320.805\n",
      "INFO:tensorflow:loss = 3.23363e+11, step = 101 (0.319 sec)\n",
      "INFO:tensorflow:global_step/sec: 329.072\n",
      "INFO:tensorflow:loss = 1.69435e+11, step = 201 (0.298 sec)\n",
      "INFO:tensorflow:global_step/sec: 365.302\n",
      "INFO:tensorflow:loss = 3.02939e+11, step = 301 (0.282 sec)\n",
      "INFO:tensorflow:global_step/sec: 346.294\n",
      "INFO:tensorflow:loss = 7.05925e+11, step = 401 (0.288 sec)\n",
      "INFO:tensorflow:global_step/sec: 319.134\n",
      "INFO:tensorflow:loss = 4.40633e+11, step = 501 (0.316 sec)\n",
      "INFO:tensorflow:global_step/sec: 273.244\n",
      "INFO:tensorflow:loss = 2.79769e+11, step = 601 (0.361 sec)\n",
      "INFO:tensorflow:global_step/sec: 317.118\n",
      "INFO:tensorflow:loss = 1.54832e+11, step = 701 (0.319 sec)\n",
      "INFO:tensorflow:global_step/sec: 291.195\n",
      "INFO:tensorflow:loss = 2.07242e+11, step = 801 (0.336 sec)\n",
      "INFO:tensorflow:global_step/sec: 311.183\n",
      "INFO:tensorflow:loss = 2.18792e+11, step = 901 (0.323 sec)\n",
      "INFO:tensorflow:global_step/sec: 346.885\n",
      "INFO:tensorflow:loss = 5.27617e+11, step = 1001 (0.290 sec)\n",
      "INFO:tensorflow:global_step/sec: 368.666\n",
      "INFO:tensorflow:loss = 1.50639e+11, step = 1101 (0.272 sec)\n",
      "INFO:tensorflow:global_step/sec: 342.134\n",
      "INFO:tensorflow:loss = 4.93466e+11, step = 1201 (0.294 sec)\n",
      "INFO:tensorflow:global_step/sec: 307.346\n",
      "INFO:tensorflow:loss = 2.99213e+11, step = 1301 (0.321 sec)\n",
      "INFO:tensorflow:global_step/sec: 308.297\n",
      "INFO:tensorflow:loss = 1.83703e+11, step = 1401 (0.329 sec)\n",
      "INFO:tensorflow:global_step/sec: 346.901\n",
      "INFO:tensorflow:loss = 1.39088e+11, step = 1501 (0.288 sec)\n",
      "INFO:tensorflow:global_step/sec: 338.084\n",
      "INFO:tensorflow:loss = 2.45104e+11, step = 1601 (0.294 sec)\n",
      "INFO:tensorflow:global_step/sec: 384.963\n",
      "INFO:tensorflow:loss = 1.8621e+11, step = 1701 (0.263 sec)\n",
      "INFO:tensorflow:global_step/sec: 391.226\n",
      "INFO:tensorflow:loss = 2.61095e+11, step = 1801 (0.250 sec)\n",
      "INFO:tensorflow:global_step/sec: 379.18\n",
      "INFO:tensorflow:loss = 2.51705e+11, step = 1901 (0.264 sec)\n",
      "INFO:tensorflow:global_step/sec: 372.143\n",
      "INFO:tensorflow:loss = 3.0681e+11, step = 2001 (0.266 sec)\n",
      "INFO:tensorflow:global_step/sec: 431.714\n",
      "INFO:tensorflow:loss = 2.08372e+11, step = 2101 (0.235 sec)\n",
      "INFO:tensorflow:global_step/sec: 365.997\n",
      "INFO:tensorflow:loss = 3.4644e+11, step = 2201 (0.276 sec)\n",
      "INFO:tensorflow:global_step/sec: 300.391\n",
      "INFO:tensorflow:loss = 2.41571e+11, step = 2301 (0.331 sec)\n",
      "INFO:tensorflow:global_step/sec: 326.904\n",
      "INFO:tensorflow:loss = 1.29125e+11, step = 2401 (0.307 sec)\n",
      "INFO:tensorflow:global_step/sec: 335.336\n",
      "INFO:tensorflow:loss = 3.2981e+11, step = 2501 (0.299 sec)\n",
      "INFO:tensorflow:global_step/sec: 303.349\n",
      "INFO:tensorflow:loss = 4.21024e+11, step = 2601 (0.326 sec)\n",
      "INFO:tensorflow:global_step/sec: 330.002\n",
      "INFO:tensorflow:loss = 2.9756e+11, step = 2701 (0.304 sec)\n",
      "INFO:tensorflow:global_step/sec: 350.559\n",
      "INFO:tensorflow:loss = 3.33714e+11, step = 2801 (0.285 sec)\n",
      "INFO:tensorflow:global_step/sec: 286.589\n",
      "INFO:tensorflow:loss = 1.44845e+11, step = 2901 (0.347 sec)\n",
      "INFO:tensorflow:global_step/sec: 371.454\n",
      "INFO:tensorflow:loss = 3.15785e+11, step = 3001 (0.267 sec)\n",
      "INFO:tensorflow:global_step/sec: 384.308\n",
      "INFO:tensorflow:loss = 4.26296e+11, step = 3101 (0.265 sec)\n",
      "INFO:tensorflow:global_step/sec: 388.819\n",
      "INFO:tensorflow:loss = 2.24315e+11, step = 3201 (0.258 sec)\n",
      "INFO:tensorflow:global_step/sec: 362.593\n",
      "INFO:tensorflow:loss = 3.10756e+11, step = 3301 (0.273 sec)\n",
      "INFO:tensorflow:global_step/sec: 325.802\n",
      "INFO:tensorflow:loss = 2.27575e+11, step = 3401 (0.305 sec)\n",
      "INFO:tensorflow:global_step/sec: 315.222\n",
      "INFO:tensorflow:loss = 2.99201e+11, step = 3501 (0.319 sec)\n",
      "INFO:tensorflow:global_step/sec: 338.064\n",
      "INFO:tensorflow:loss = 2.46115e+11, step = 3601 (0.299 sec)\n",
      "INFO:tensorflow:global_step/sec: 328.053\n",
      "INFO:tensorflow:loss = 3.7954e+11, step = 3701 (0.302 sec)\n",
      "INFO:tensorflow:global_step/sec: 305.947\n",
      "INFO:tensorflow:loss = 3.59954e+11, step = 3801 (0.331 sec)\n",
      "INFO:tensorflow:global_step/sec: 335.809\n",
      "INFO:tensorflow:loss = 6.47421e+10, step = 3901 (0.296 sec)\n",
      "INFO:tensorflow:global_step/sec: 344.478\n",
      "INFO:tensorflow:loss = 1.56956e+11, step = 4001 (0.287 sec)\n",
      "INFO:tensorflow:global_step/sec: 346.261\n",
      "INFO:tensorflow:loss = 1.32624e+11, step = 4101 (0.292 sec)\n",
      "INFO:tensorflow:global_step/sec: 313.168\n",
      "INFO:tensorflow:loss = 1.78939e+11, step = 4201 (0.315 sec)\n",
      "INFO:tensorflow:global_step/sec: 337.509\n",
      "INFO:tensorflow:loss = 2.92059e+11, step = 4301 (0.300 sec)\n",
      "INFO:tensorflow:global_step/sec: 329.699\n",
      "INFO:tensorflow:loss = 3.02021e+11, step = 4401 (0.299 sec)\n",
      "INFO:tensorflow:global_step/sec: 322.764\n",
      "INFO:tensorflow:loss = 9.23563e+10, step = 4501 (0.310 sec)\n",
      "INFO:tensorflow:global_step/sec: 407.807\n",
      "INFO:tensorflow:loss = 2.98643e+11, step = 4601 (0.250 sec)\n",
      "INFO:tensorflow:global_step/sec: 389.585\n",
      "INFO:tensorflow:loss = 2.20832e+11, step = 4701 (0.252 sec)\n",
      "INFO:tensorflow:global_step/sec: 381.178\n",
      "INFO:tensorflow:loss = 2.62136e+11, step = 4801 (0.261 sec)\n",
      "INFO:tensorflow:global_step/sec: 391.085\n",
      "INFO:tensorflow:loss = 4.83633e+10, step = 4901 (0.261 sec)\n",
      "INFO:tensorflow:global_step/sec: 359.385\n",
      "INFO:tensorflow:loss = 3.52068e+11, step = 5001 (0.276 sec)\n",
      "INFO:tensorflow:global_step/sec: 318.131\n",
      "INFO:tensorflow:loss = 3.10432e+11, step = 5101 (0.315 sec)\n",
      "INFO:tensorflow:global_step/sec: 390.314\n",
      "INFO:tensorflow:loss = 1.51196e+11, step = 5201 (0.253 sec)\n",
      "INFO:tensorflow:global_step/sec: 402.116\n",
      "INFO:tensorflow:loss = 9.979e+10, step = 5301 (0.253 sec)\n",
      "INFO:tensorflow:global_step/sec: 407.118\n",
      "INFO:tensorflow:loss = 5.54758e+10, step = 5401 (0.248 sec)\n",
      "INFO:tensorflow:global_step/sec: 388.826\n",
      "INFO:tensorflow:loss = 1.80187e+11, step = 5501 (0.253 sec)\n",
      "INFO:tensorflow:global_step/sec: 374.942\n",
      "INFO:tensorflow:loss = 2.56189e+11, step = 5601 (0.271 sec)\n",
      "INFO:tensorflow:global_step/sec: 391.113\n",
      "INFO:tensorflow:loss = 3.86216e+11, step = 5701 (0.253 sec)\n",
      "INFO:tensorflow:global_step/sec: 360.691\n",
      "INFO:tensorflow:loss = 1.23885e+11, step = 5801 (0.276 sec)\n",
      "INFO:tensorflow:global_step/sec: 347.496\n",
      "INFO:tensorflow:loss = 3.96521e+11, step = 5901 (0.284 sec)\n",
      "INFO:tensorflow:global_step/sec: 349.315\n",
      "INFO:tensorflow:loss = 4.65607e+11, step = 6001 (0.290 sec)\n",
      "INFO:tensorflow:global_step/sec: 336.372\n",
      "INFO:tensorflow:loss = 4.695e+11, step = 6101 (0.297 sec)\n",
      "INFO:tensorflow:global_step/sec: 363.993\n",
      "INFO:tensorflow:loss = 5.58913e+10, step = 6201 (0.276 sec)\n",
      "INFO:tensorflow:global_step/sec: 344.506\n",
      "INFO:tensorflow:loss = 1.93012e+11, step = 6301 (0.289 sec)\n",
      "INFO:tensorflow:global_step/sec: 392.596\n",
      "INFO:tensorflow:loss = 2.5507e+11, step = 6401 (0.253 sec)\n",
      "INFO:tensorflow:global_step/sec: 351.086\n",
      "INFO:tensorflow:loss = 1.18996e+11, step = 6501 (0.284 sec)\n",
      "INFO:tensorflow:global_step/sec: 353.123\n",
      "INFO:tensorflow:loss = 2.74359e+11, step = 6601 (0.286 sec)\n",
      "INFO:tensorflow:global_step/sec: 320.181\n",
      "INFO:tensorflow:loss = 3.16425e+11, step = 6701 (0.309 sec)\n",
      "INFO:tensorflow:global_step/sec: 411.276\n",
      "INFO:tensorflow:loss = 6.61667e+10, step = 6801 (0.244 sec)\n",
      "INFO:tensorflow:global_step/sec: 425.542\n",
      "INFO:tensorflow:loss = 3.01614e+11, step = 6901 (0.233 sec)\n",
      "INFO:tensorflow:global_step/sec: 435.802\n",
      "INFO:tensorflow:loss = 2.69905e+11, step = 7001 (0.232 sec)\n",
      "INFO:tensorflow:global_step/sec: 418.533\n",
      "INFO:tensorflow:loss = 2.66762e+11, step = 7101 (0.238 sec)\n",
      "INFO:tensorflow:global_step/sec: 370.758\n",
      "INFO:tensorflow:loss = 1.38198e+11, step = 7201 (0.269 sec)\n",
      "INFO:tensorflow:global_step/sec: 370.07\n",
      "INFO:tensorflow:loss = 2.4892e+11, step = 7301 (0.270 sec)\n",
      "INFO:tensorflow:global_step/sec: 387.317\n",
      "INFO:tensorflow:loss = 3.69333e+10, step = 7401 (0.261 sec)\n",
      "INFO:tensorflow:global_step/sec: 327.534\n",
      "INFO:tensorflow:loss = 1.60991e+11, step = 7501 (0.304 sec)\n",
      "INFO:tensorflow:global_step/sec: 323.287\n",
      "INFO:tensorflow:loss = 2.84212e+11, step = 7601 (0.310 sec)\n",
      "INFO:tensorflow:global_step/sec: 344.465\n",
      "INFO:tensorflow:loss = 1.55349e+11, step = 7701 (0.291 sec)\n",
      "INFO:tensorflow:global_step/sec: 363.328\n",
      "INFO:tensorflow:loss = 5.07765e+11, step = 7801 (0.275 sec)\n",
      "INFO:tensorflow:global_step/sec: 321.156\n",
      "INFO:tensorflow:loss = 2.09731e+11, step = 7901 (0.316 sec)\n",
      "INFO:tensorflow:global_step/sec: 294.212\n",
      "INFO:tensorflow:loss = 2.59446e+11, step = 8001 (0.334 sec)\n",
      "INFO:tensorflow:global_step/sec: 327.019\n",
      "INFO:tensorflow:loss = 2.32802e+11, step = 8101 (0.308 sec)\n",
      "INFO:tensorflow:global_step/sec: 317.61\n",
      "INFO:tensorflow:loss = 3.78119e+11, step = 8201 (0.314 sec)\n",
      "INFO:tensorflow:global_step/sec: 322.779\n",
      "INFO:tensorflow:loss = 3.18917e+11, step = 8301 (0.312 sec)\n",
      "INFO:tensorflow:global_step/sec: 313.548\n",
      "INFO:tensorflow:loss = 2.15917e+11, step = 8401 (0.320 sec)\n",
      "INFO:tensorflow:global_step/sec: 333.474\n",
      "INFO:tensorflow:loss = 4.54322e+11, step = 8501 (0.295 sec)\n",
      "INFO:tensorflow:global_step/sec: 305.018\n",
      "INFO:tensorflow:loss = 2.18926e+11, step = 8601 (0.328 sec)\n",
      "INFO:tensorflow:global_step/sec: 295.846\n",
      "INFO:tensorflow:loss = 6.76064e+10, step = 8701 (0.342 sec)\n",
      "INFO:tensorflow:global_step/sec: 326.997\n",
      "INFO:tensorflow:loss = 2.6543e+11, step = 8801 (0.306 sec)\n",
      "INFO:tensorflow:global_step/sec: 306.875\n",
      "INFO:tensorflow:loss = 3.1371e+11, step = 8901 (0.321 sec)\n",
      "INFO:tensorflow:global_step/sec: 317.624\n",
      "INFO:tensorflow:loss = 2.1851e+11, step = 9001 (0.314 sec)\n",
      "INFO:tensorflow:global_step/sec: 343.319\n",
      "INFO:tensorflow:loss = 2.45807e+11, step = 9101 (0.292 sec)\n",
      "INFO:tensorflow:global_step/sec: 358.111\n",
      "INFO:tensorflow:loss = 2.87761e+11, step = 9201 (0.284 sec)\n",
      "INFO:tensorflow:global_step/sec: 301.312\n",
      "INFO:tensorflow:loss = 2.74526e+11, step = 9301 (0.332 sec)\n",
      "INFO:tensorflow:global_step/sec: 330.245\n",
      "INFO:tensorflow:loss = 3.42462e+11, step = 9401 (0.308 sec)\n",
      "INFO:tensorflow:global_step/sec: 336.94\n",
      "INFO:tensorflow:loss = 4.00598e+11, step = 9501 (0.291 sec)\n",
      "INFO:tensorflow:global_step/sec: 289.299\n",
      "INFO:tensorflow:loss = 3.52045e+11, step = 9601 (0.343 sec)\n",
      "INFO:tensorflow:global_step/sec: 323.25\n",
      "INFO:tensorflow:loss = 4.17772e+11, step = 9701 (0.309 sec)\n",
      "INFO:tensorflow:global_step/sec: 344.96\n",
      "INFO:tensorflow:loss = 1.89068e+11, step = 9801 (0.289 sec)\n",
      "INFO:tensorflow:global_step/sec: 341.906\n",
      "INFO:tensorflow:loss = 1.84013e+11, step = 9901 (0.296 sec)\n",
      "INFO:tensorflow:global_step/sec: 402.484\n",
      "INFO:tensorflow:loss = 1.2123e+11, step = 10001 (0.244 sec)\n",
      "INFO:tensorflow:global_step/sec: 401.018\n",
      "INFO:tensorflow:loss = 1.52066e+11, step = 10101 (0.249 sec)\n",
      "INFO:tensorflow:global_step/sec: 383.592\n",
      "INFO:tensorflow:loss = 3.27749e+11, step = 10201 (0.264 sec)\n",
      "INFO:tensorflow:global_step/sec: 341.529\n",
      "INFO:tensorflow:loss = 2.64948e+11, step = 10301 (0.296 sec)\n",
      "INFO:tensorflow:global_step/sec: 418.195\n",
      "INFO:tensorflow:loss = 1.33773e+11, step = 10401 (0.237 sec)\n",
      "INFO:tensorflow:global_step/sec: 442.934\n",
      "INFO:tensorflow:loss = 2.40236e+11, step = 10501 (0.224 sec)\n",
      "INFO:tensorflow:global_step/sec: 435.757\n",
      "INFO:tensorflow:loss = 2.69468e+11, step = 10601 (0.230 sec)\n",
      "INFO:tensorflow:global_step/sec: 427.828\n",
      "INFO:tensorflow:loss = 7.61408e+10, step = 10701 (0.234 sec)\n",
      "INFO:tensorflow:global_step/sec: 352.417\n",
      "INFO:tensorflow:loss = 2.37545e+11, step = 10801 (0.284 sec)\n",
      "INFO:tensorflow:global_step/sec: 285.77\n",
      "INFO:tensorflow:loss = 3.78478e+11, step = 10901 (0.348 sec)\n",
      "INFO:tensorflow:global_step/sec: 337.509\n",
      "INFO:tensorflow:loss = 3.77151e+11, step = 11001 (0.300 sec)\n",
      "INFO:tensorflow:global_step/sec: 306.403\n",
      "INFO:tensorflow:loss = 2.40917e+11, step = 11101 (0.325 sec)\n",
      "INFO:tensorflow:global_step/sec: 347.507\n",
      "INFO:tensorflow:loss = 6.77953e+10, step = 11201 (0.284 sec)\n",
      "INFO:tensorflow:global_step/sec: 352.416\n",
      "INFO:tensorflow:loss = 2.22181e+11, step = 11301 (0.286 sec)\n",
      "INFO:tensorflow:global_step/sec: 315.116\n",
      "INFO:tensorflow:loss = 1.81639e+11, step = 11401 (0.313 sec)\n",
      "INFO:tensorflow:global_step/sec: 328.072\n",
      "INFO:tensorflow:loss = 1.1981e+11, step = 11501 (0.309 sec)\n",
      "INFO:tensorflow:global_step/sec: 372.822\n",
      "INFO:tensorflow:loss = 4.93086e+11, step = 11601 (0.270 sec)\n",
      "INFO:tensorflow:global_step/sec: 310.215\n",
      "INFO:tensorflow:loss = 1.15871e+11, step = 11701 (0.320 sec)\n",
      "INFO:tensorflow:global_step/sec: 342.142\n",
      "INFO:tensorflow:loss = 9.36633e+10, step = 11801 (0.298 sec)\n",
      "INFO:tensorflow:global_step/sec: 336.371\n",
      "INFO:tensorflow:loss = 2.38891e+11, step = 11901 (0.294 sec)\n",
      "INFO:tensorflow:global_step/sec: 312.137\n",
      "INFO:tensorflow:loss = 6.31621e+10, step = 12001 (0.322 sec)\n",
      "INFO:tensorflow:global_step/sec: 345.697\n",
      "INFO:tensorflow:loss = 7.27891e+10, step = 12101 (0.285 sec)\n",
      "INFO:tensorflow:global_step/sec: 385.82\n",
      "INFO:tensorflow:loss = 1.37685e+11, step = 12201 (0.262 sec)\n",
      "INFO:tensorflow:global_step/sec: 322.242\n",
      "INFO:tensorflow:loss = 8.99298e+10, step = 12301 (0.309 sec)\n",
      "INFO:tensorflow:global_step/sec: 339.81\n",
      "INFO:tensorflow:loss = 1.36105e+11, step = 12401 (0.291 sec)\n",
      "INFO:tensorflow:global_step/sec: 406.211\n",
      "INFO:tensorflow:loss = 2.62244e+11, step = 12501 (0.249 sec)\n",
      "INFO:tensorflow:global_step/sec: 433.589\n",
      "INFO:tensorflow:loss = 1.65701e+11, step = 12601 (0.229 sec)\n",
      "INFO:tensorflow:global_step/sec: 405.492\n",
      "INFO:tensorflow:loss = 7.13531e+10, step = 12701 (0.244 sec)\n",
      "INFO:tensorflow:global_step/sec: 352.329\n",
      "INFO:tensorflow:loss = 6.22338e+10, step = 12801 (0.287 sec)\n",
      "INFO:tensorflow:global_step/sec: 405.473\n",
      "INFO:tensorflow:loss = 2.80904e+11, step = 12901 (0.248 sec)\n",
      "INFO:tensorflow:global_step/sec: 334.592\n",
      "INFO:tensorflow:loss = 2.10335e+11, step = 13001 (0.297 sec)\n",
      "INFO:tensorflow:global_step/sec: 342.57\n",
      "INFO:tensorflow:loss = 8.55209e+10, step = 13101 (0.291 sec)\n",
      "INFO:tensorflow:global_step/sec: 315.748\n",
      "INFO:tensorflow:loss = 3.45525e+11, step = 13201 (0.322 sec)\n",
      "INFO:tensorflow:global_step/sec: 345.101\n",
      "INFO:tensorflow:loss = 6.54239e+10, step = 13301 (0.285 sec)\n",
      "INFO:tensorflow:global_step/sec: 337.414\n",
      "INFO:tensorflow:loss = 3.34805e+11, step = 13401 (0.300 sec)\n",
      "INFO:tensorflow:global_step/sec: 315.615\n",
      "INFO:tensorflow:loss = 7.53331e+10, step = 13501 (0.311 sec)\n",
      "INFO:tensorflow:global_step/sec: 322.243\n",
      "INFO:tensorflow:loss = 3.75545e+11, step = 13601 (0.311 sec)\n",
      "INFO:tensorflow:global_step/sec: 355.556\n",
      "INFO:tensorflow:loss = 2.01139e+11, step = 13701 (0.288 sec)\n",
      "INFO:tensorflow:global_step/sec: 294.157\n",
      "INFO:tensorflow:loss = 3.21106e+11, step = 13801 (0.329 sec)\n",
      "INFO:tensorflow:global_step/sec: 349.394\n",
      "INFO:tensorflow:loss = 1.82477e+11, step = 13901 (0.288 sec)\n",
      "INFO:tensorflow:global_step/sec: 327.488\n",
      "INFO:tensorflow:loss = 3.66708e+11, step = 14001 (0.309 sec)\n",
      "INFO:tensorflow:global_step/sec: 331.941\n",
      "INFO:tensorflow:loss = 9.11067e+10, step = 14101 (0.304 sec)\n",
      "INFO:tensorflow:global_step/sec: 348.721\n",
      "INFO:tensorflow:loss = 4.34931e+11, step = 14201 (0.286 sec)\n",
      "INFO:tensorflow:global_step/sec: 331.343\n",
      "INFO:tensorflow:loss = 4.7741e+11, step = 14301 (0.297 sec)\n",
      "INFO:tensorflow:global_step/sec: 338.081\n",
      "INFO:tensorflow:loss = 1.61625e+11, step = 14401 (0.305 sec)\n",
      "INFO:tensorflow:global_step/sec: 316.068\n",
      "INFO:tensorflow:loss = 6.69833e+10, step = 14501 (0.307 sec)\n",
      "INFO:tensorflow:global_step/sec: 340.972\n",
      "INFO:tensorflow:loss = 1.66713e+11, step = 14601 (0.296 sec)\n",
      "INFO:tensorflow:global_step/sec: 306.798\n",
      "INFO:tensorflow:loss = 9.11008e+10, step = 14701 (0.330 sec)\n",
      "INFO:tensorflow:global_step/sec: 331.983\n",
      "INFO:tensorflow:loss = 5.23378e+11, step = 14801 (0.298 sec)\n",
      "INFO:tensorflow:global_step/sec: 359.401\n",
      "INFO:tensorflow:loss = 8.69424e+10, step = 14901 (0.275 sec)\n",
      "INFO:tensorflow:global_step/sec: 382.122\n",
      "INFO:tensorflow:loss = 4.69319e+11, step = 15001 (0.263 sec)\n",
      "INFO:tensorflow:global_step/sec: 387.976\n",
      "INFO:tensorflow:loss = 1.13449e+11, step = 15101 (0.261 sec)\n",
      "INFO:tensorflow:global_step/sec: 355.638\n",
      "INFO:tensorflow:loss = 2.47066e+11, step = 15201 (0.278 sec)\n",
      "INFO:tensorflow:global_step/sec: 386.992\n",
      "INFO:tensorflow:loss = 8.54839e+10, step = 15301 (0.258 sec)\n",
      "INFO:tensorflow:global_step/sec: 332.637\n",
      "INFO:tensorflow:loss = 2.36655e+10, step = 15401 (0.301 sec)\n",
      "INFO:tensorflow:global_step/sec: 394.207\n",
      "INFO:tensorflow:loss = 2.42149e+11, step = 15501 (0.254 sec)\n",
      "INFO:tensorflow:global_step/sec: 329.684\n",
      "INFO:tensorflow:loss = 2.58938e+11, step = 15601 (0.312 sec)\n",
      "INFO:tensorflow:global_step/sec: 284.954\n",
      "INFO:tensorflow:loss = 2.16585e+11, step = 15701 (0.341 sec)\n",
      "INFO:tensorflow:global_step/sec: 339.809\n",
      "INFO:tensorflow:loss = 8.65066e+10, step = 15801 (0.296 sec)\n",
      "INFO:tensorflow:global_step/sec: 316.114\n",
      "INFO:tensorflow:loss = 1.48043e+11, step = 15901 (0.315 sec)\n",
      "INFO:tensorflow:global_step/sec: 363.331\n",
      "INFO:tensorflow:loss = 3.14172e+11, step = 16001 (0.280 sec)\n",
      "INFO:tensorflow:global_step/sec: 339.231\n",
      "INFO:tensorflow:loss = 2.6746e+11, step = 16101 (0.290 sec)\n",
      "INFO:tensorflow:global_step/sec: 383.456\n",
      "INFO:tensorflow:loss = 1.77649e+11, step = 16201 (0.262 sec)\n",
      "INFO:tensorflow:global_step/sec: 334.689\n",
      "INFO:tensorflow:loss = 2.47462e+11, step = 16301 (0.298 sec)\n",
      "INFO:tensorflow:global_step/sec: 359.869\n",
      "INFO:tensorflow:loss = 1.31217e+11, step = 16401 (0.284 sec)\n",
      "INFO:tensorflow:global_step/sec: 347.483\n",
      "INFO:tensorflow:loss = 2.19951e+11, step = 16501 (0.287 sec)\n",
      "INFO:tensorflow:global_step/sec: 352.418\n",
      "INFO:tensorflow:loss = 3.28878e+11, step = 16601 (0.279 sec)\n",
      "INFO:tensorflow:global_step/sec: 364.368\n",
      "INFO:tensorflow:loss = 1.5916e+11, step = 16701 (0.275 sec)\n",
      "INFO:tensorflow:global_step/sec: 420.304\n",
      "INFO:tensorflow:loss = 3.58201e+10, step = 16801 (0.240 sec)\n",
      "INFO:tensorflow:global_step/sec: 396.285\n",
      "INFO:tensorflow:loss = 1.70738e+11, step = 16901 (0.248 sec)\n",
      "INFO:tensorflow:global_step/sec: 399.491\n",
      "INFO:tensorflow:loss = 3.69723e+11, step = 17001 (0.255 sec)\n",
      "INFO:tensorflow:global_step/sec: 387.508\n",
      "INFO:tensorflow:loss = 4.5319e+11, step = 17101 (0.255 sec)\n",
      "INFO:tensorflow:global_step/sec: 393.961\n",
      "INFO:tensorflow:loss = 3.32191e+11, step = 17201 (0.256 sec)\n",
      "INFO:tensorflow:global_step/sec: 443.541\n",
      "INFO:tensorflow:loss = 2.29957e+11, step = 17301 (0.226 sec)\n",
      "INFO:tensorflow:global_step/sec: 394.968\n",
      "INFO:tensorflow:loss = 3.6813e+11, step = 17401 (0.251 sec)\n",
      "INFO:tensorflow:global_step/sec: 414.425\n",
      "INFO:tensorflow:loss = 3.77506e+11, step = 17501 (0.242 sec)\n",
      "INFO:tensorflow:global_step/sec: 468.551\n",
      "INFO:tensorflow:loss = 2.17578e+11, step = 17601 (0.213 sec)\n",
      "INFO:tensorflow:global_step/sec: 389.586\n",
      "INFO:tensorflow:loss = 8.75589e+10, step = 17701 (0.260 sec)\n",
      "INFO:tensorflow:global_step/sec: 309.199\n",
      "INFO:tensorflow:loss = 1.1786e+10, step = 17801 (0.323 sec)\n",
      "INFO:tensorflow:global_step/sec: 333.585\n",
      "INFO:tensorflow:loss = 2.16755e+11, step = 17901 (0.301 sec)\n",
      "INFO:tensorflow:global_step/sec: 343.91\n",
      "INFO:tensorflow:loss = 2.09447e+11, step = 18001 (0.288 sec)\n",
      "INFO:tensorflow:global_step/sec: 304.067\n",
      "INFO:tensorflow:loss = 2.82586e+11, step = 18101 (0.330 sec)\n",
      "INFO:tensorflow:global_step/sec: 342.625\n",
      "INFO:tensorflow:loss = 3.88703e+10, step = 18201 (0.293 sec)\n",
      "INFO:tensorflow:global_step/sec: 323.381\n",
      "INFO:tensorflow:loss = 2.36247e+11, step = 18301 (0.310 sec)\n",
      "INFO:tensorflow:global_step/sec: 333.002\n",
      "INFO:tensorflow:loss = 9.00207e+11, step = 18401 (0.295 sec)\n",
      "INFO:tensorflow:global_step/sec: 356.171\n",
      "INFO:tensorflow:loss = 4.20571e+11, step = 18501 (0.281 sec)\n",
      "INFO:tensorflow:global_step/sec: 381.391\n",
      "INFO:tensorflow:loss = 2.95574e+11, step = 18601 (0.268 sec)\n",
      "INFO:tensorflow:global_step/sec: 400.539\n",
      "INFO:tensorflow:loss = 2.32858e+11, step = 18701 (0.244 sec)\n",
      "INFO:tensorflow:global_step/sec: 412.884\n",
      "INFO:tensorflow:loss = 2.80683e+11, step = 18801 (0.247 sec)\n",
      "INFO:tensorflow:global_step/sec: 404.432\n",
      "INFO:tensorflow:loss = 2.06025e+11, step = 18901 (0.243 sec)\n",
      "INFO:tensorflow:global_step/sec: 426.193\n",
      "INFO:tensorflow:loss = 6.64224e+10, step = 19001 (0.237 sec)\n",
      "INFO:tensorflow:global_step/sec: 441.3\n",
      "INFO:tensorflow:loss = 3.42287e+11, step = 19101 (0.226 sec)\n",
      "INFO:tensorflow:global_step/sec: 342.444\n",
      "INFO:tensorflow:loss = 2.45913e+11, step = 19201 (0.294 sec)\n",
      "INFO:tensorflow:global_step/sec: 340.67\n",
      "INFO:tensorflow:loss = 5.66096e+11, step = 19301 (0.290 sec)\n",
      "INFO:tensorflow:global_step/sec: 333.536\n",
      "INFO:tensorflow:loss = 4.73637e+10, step = 19401 (0.303 sec)\n",
      "INFO:tensorflow:global_step/sec: 328.895\n",
      "INFO:tensorflow:loss = 1.07245e+11, step = 19501 (0.309 sec)\n",
      "INFO:tensorflow:global_step/sec: 320.902\n",
      "INFO:tensorflow:loss = 5.90354e+10, step = 19601 (0.308 sec)\n",
      "INFO:tensorflow:global_step/sec: 346.298\n",
      "INFO:tensorflow:loss = 1.21177e+11, step = 19701 (0.288 sec)\n",
      "INFO:tensorflow:global_step/sec: 323.811\n",
      "INFO:tensorflow:loss = 2.04461e+11, step = 19801 (0.306 sec)\n",
      "INFO:tensorflow:global_step/sec: 367.345\n",
      "INFO:tensorflow:loss = 2.57157e+11, step = 19901 (0.277 sec)\n",
      "INFO:tensorflow:Saving checkpoints for 20000 into C:\\Users\\mamid\\AppData\\Local\\Temp\\tmp2_u_knf3\\model.ckpt.\n",
      "INFO:tensorflow:Loss for final step: 1.54045e+11.\n"
     ]
    },
    {
     "data": {
      "text/plain": [
       "<tensorflow.python.estimator.canned.linear.LinearRegressor at 0x1b8a1eeac18>"
      ]
     },
     "execution_count": 422,
     "metadata": {},
     "output_type": "execute_result"
    }
   ],
   "source": [
    "lin_model.train(input_fn=input_func,steps=20000)\n"
   ]
  },
  {
   "cell_type": "code",
   "execution_count": 423,
   "metadata": {
    "collapsed": true
   },
   "outputs": [],
   "source": [
    "lin_preds = lin_model.predict(input_fn=pred_func)"
   ]
  },
  {
   "cell_type": "code",
   "execution_count": 424,
   "metadata": {
    "collapsed": true
   },
   "outputs": [],
   "source": [
    "lin_predictions = []\n",
    "final_lin_predictions = []"
   ]
  },
  {
   "cell_type": "code",
   "execution_count": 425,
   "metadata": {
    "collapsed": false
   },
   "outputs": [
    {
     "name": "stdout",
     "output_type": "stream",
     "text": [
      "INFO:tensorflow:Restoring parameters from C:\\Users\\mamid\\AppData\\Local\\Temp\\tmp2_u_knf3\\model.ckpt-20000\n"
     ]
    }
   ],
   "source": [
    "for pred in lin_model.predict(input_fn=pred_func):\n",
    "    \n",
    "   lin_predictions.append(pred['predictions'])"
   ]
  },
  {
   "cell_type": "code",
   "execution_count": 426,
   "metadata": {
    "collapsed": false
   },
   "outputs": [],
   "source": [
    "for i in range(len(lin_predictions)):\n",
    "    \n",
    "    final_lin_predictions.append(lin_predictions[i][0])"
   ]
  },
  {
   "cell_type": "code",
   "execution_count": 427,
   "metadata": {
    "collapsed": false
   },
   "outputs": [
    {
     "data": {
      "text/plain": [
       "6192"
      ]
     },
     "execution_count": 427,
     "metadata": {},
     "output_type": "execute_result"
    }
   ],
   "source": [
    "len(final_lin_predictions)"
   ]
  },
  {
   "cell_type": "code",
   "execution_count": 428,
   "metadata": {
    "collapsed": false
   },
   "outputs": [],
   "source": [
    "linear_error = np.sqrt(mean_squared_error(y_test ,final_lin_predictions))"
   ]
  },
  {
   "cell_type": "code",
   "execution_count": 429,
   "metadata": {
    "collapsed": false
   },
   "outputs": [
    {
     "data": {
      "text/plain": [
       "164600.78634475355"
      ]
     },
     "execution_count": 429,
     "metadata": {},
     "output_type": "execute_result"
    }
   ],
   "source": [
    "linear_error"
   ]
  },
  {
   "cell_type": "code",
   "execution_count": null,
   "metadata": {
    "collapsed": true
   },
   "outputs": [],
   "source": []
  }
 ],
 "metadata": {
  "kernelspec": {
   "display_name": "Python [conda root]",
   "language": "python",
   "name": "conda-root-py"
  },
  "language_info": {
   "codemirror_mode": {
    "name": "ipython",
    "version": 3
   },
   "file_extension": ".py",
   "mimetype": "text/x-python",
   "name": "python",
   "nbconvert_exporter": "python",
   "pygments_lexer": "ipython3",
   "version": "3.5.4"
  }
 },
 "nbformat": 4,
 "nbformat_minor": 2
}
